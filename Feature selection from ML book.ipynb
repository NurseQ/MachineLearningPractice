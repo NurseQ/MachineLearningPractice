{
 "cells": [
  {
   "cell_type": "code",
   "execution_count": 1,
   "metadata": {},
   "outputs": [],
   "source": [
    "import pandas as pd\n"
   ]
  },
  {
   "cell_type": "code",
   "execution_count": 2,
   "metadata": {},
   "outputs": [
    {
     "data": {
      "text/html": [
       "<div>\n",
       "<style scoped>\n",
       "    .dataframe tbody tr th:only-of-type {\n",
       "        vertical-align: middle;\n",
       "    }\n",
       "\n",
       "    .dataframe tbody tr th {\n",
       "        vertical-align: top;\n",
       "    }\n",
       "\n",
       "    .dataframe thead th {\n",
       "        text-align: right;\n",
       "    }\n",
       "</style>\n",
       "<table border=\"1\" class=\"dataframe\">\n",
       "  <thead>\n",
       "    <tr style=\"text-align: right;\">\n",
       "      <th></th>\n",
       "      <th>Class label</th>\n",
       "      <th>Alcohol</th>\n",
       "      <th>Malic acid</th>\n",
       "      <th>Ash</th>\n",
       "      <th>Alcalinity of ash</th>\n",
       "      <th>Magnesium</th>\n",
       "      <th>Total phenols</th>\n",
       "      <th>Flavanoids</th>\n",
       "      <th>Nonflavanoid phenols</th>\n",
       "      <th>Proanthocyanins</th>\n",
       "      <th>Color intensity</th>\n",
       "      <th>Hue</th>\n",
       "      <th>OD280/OD315 of diluted wines</th>\n",
       "      <th>Proline</th>\n",
       "    </tr>\n",
       "  </thead>\n",
       "  <tbody>\n",
       "    <tr>\n",
       "      <th>0</th>\n",
       "      <td>1</td>\n",
       "      <td>14.23</td>\n",
       "      <td>1.71</td>\n",
       "      <td>2.43</td>\n",
       "      <td>15.6</td>\n",
       "      <td>127</td>\n",
       "      <td>2.80</td>\n",
       "      <td>3.06</td>\n",
       "      <td>0.28</td>\n",
       "      <td>2.29</td>\n",
       "      <td>5.64</td>\n",
       "      <td>1.04</td>\n",
       "      <td>3.92</td>\n",
       "      <td>1065</td>\n",
       "    </tr>\n",
       "    <tr>\n",
       "      <th>1</th>\n",
       "      <td>1</td>\n",
       "      <td>13.20</td>\n",
       "      <td>1.78</td>\n",
       "      <td>2.14</td>\n",
       "      <td>11.2</td>\n",
       "      <td>100</td>\n",
       "      <td>2.65</td>\n",
       "      <td>2.76</td>\n",
       "      <td>0.26</td>\n",
       "      <td>1.28</td>\n",
       "      <td>4.38</td>\n",
       "      <td>1.05</td>\n",
       "      <td>3.40</td>\n",
       "      <td>1050</td>\n",
       "    </tr>\n",
       "    <tr>\n",
       "      <th>2</th>\n",
       "      <td>1</td>\n",
       "      <td>13.16</td>\n",
       "      <td>2.36</td>\n",
       "      <td>2.67</td>\n",
       "      <td>18.6</td>\n",
       "      <td>101</td>\n",
       "      <td>2.80</td>\n",
       "      <td>3.24</td>\n",
       "      <td>0.30</td>\n",
       "      <td>2.81</td>\n",
       "      <td>5.68</td>\n",
       "      <td>1.03</td>\n",
       "      <td>3.17</td>\n",
       "      <td>1185</td>\n",
       "    </tr>\n",
       "    <tr>\n",
       "      <th>3</th>\n",
       "      <td>1</td>\n",
       "      <td>14.37</td>\n",
       "      <td>1.95</td>\n",
       "      <td>2.50</td>\n",
       "      <td>16.8</td>\n",
       "      <td>113</td>\n",
       "      <td>3.85</td>\n",
       "      <td>3.49</td>\n",
       "      <td>0.24</td>\n",
       "      <td>2.18</td>\n",
       "      <td>7.80</td>\n",
       "      <td>0.86</td>\n",
       "      <td>3.45</td>\n",
       "      <td>1480</td>\n",
       "    </tr>\n",
       "    <tr>\n",
       "      <th>4</th>\n",
       "      <td>1</td>\n",
       "      <td>13.24</td>\n",
       "      <td>2.59</td>\n",
       "      <td>2.87</td>\n",
       "      <td>21.0</td>\n",
       "      <td>118</td>\n",
       "      <td>2.80</td>\n",
       "      <td>2.69</td>\n",
       "      <td>0.39</td>\n",
       "      <td>1.82</td>\n",
       "      <td>4.32</td>\n",
       "      <td>1.04</td>\n",
       "      <td>2.93</td>\n",
       "      <td>735</td>\n",
       "    </tr>\n",
       "  </tbody>\n",
       "</table>\n",
       "</div>"
      ],
      "text/plain": [
       "   Class label  Alcohol  Malic acid   Ash  Alcalinity of ash  Magnesium  \\\n",
       "0            1    14.23        1.71  2.43               15.6        127   \n",
       "1            1    13.20        1.78  2.14               11.2        100   \n",
       "2            1    13.16        2.36  2.67               18.6        101   \n",
       "3            1    14.37        1.95  2.50               16.8        113   \n",
       "4            1    13.24        2.59  2.87               21.0        118   \n",
       "\n",
       "   Total phenols  Flavanoids  Nonflavanoid phenols  Proanthocyanins  \\\n",
       "0           2.80        3.06                  0.28             2.29   \n",
       "1           2.65        2.76                  0.26             1.28   \n",
       "2           2.80        3.24                  0.30             2.81   \n",
       "3           3.85        3.49                  0.24             2.18   \n",
       "4           2.80        2.69                  0.39             1.82   \n",
       "\n",
       "   Color intensity   Hue  OD280/OD315 of diluted wines  Proline  \n",
       "0             5.64  1.04                          3.92     1065  \n",
       "1             4.38  1.05                          3.40     1050  \n",
       "2             5.68  1.03                          3.17     1185  \n",
       "3             7.80  0.86                          3.45     1480  \n",
       "4             4.32  1.04                          2.93      735  "
      ]
     },
     "execution_count": 2,
     "metadata": {},
     "output_type": "execute_result"
    }
   ],
   "source": [
    "df = pd.read_csv('https://archive.ics.uci.edu/ml/'\n",
    "    'machine-learning-databases/wine/wine.data', header=None)\n",
    "df.columns= ['Class label', 'Alcohol',\n",
    "              'Malic acid', 'Ash','Alcalinity of ash',\n",
    "              'Magnesium','Total phenols', 'Flavanoids',\n",
    "              'Nonflavanoid phenols','Proanthocyanins',\n",
    "              'Color intensity', 'Hue','OD280/OD315 of diluted wines','Proline']\n",
    "df.head()"
   ]
  },
  {
   "cell_type": "code",
   "execution_count": 3,
   "metadata": {
    "scrolled": true
   },
   "outputs": [
    {
     "name": "stdout",
     "output_type": "stream",
     "text": [
      "<class 'pandas.core.frame.DataFrame'>\n",
      "RangeIndex: 178 entries, 0 to 177\n",
      "Data columns (total 14 columns):\n",
      " #   Column                        Non-Null Count  Dtype  \n",
      "---  ------                        --------------  -----  \n",
      " 0   Class label                   178 non-null    int64  \n",
      " 1   Alcohol                       178 non-null    float64\n",
      " 2   Malic acid                    178 non-null    float64\n",
      " 3   Ash                           178 non-null    float64\n",
      " 4   Alcalinity of ash             178 non-null    float64\n",
      " 5   Magnesium                     178 non-null    int64  \n",
      " 6   Total phenols                 178 non-null    float64\n",
      " 7   Flavanoids                    178 non-null    float64\n",
      " 8   Nonflavanoid phenols          178 non-null    float64\n",
      " 9   Proanthocyanins               178 non-null    float64\n",
      " 10  Color intensity               178 non-null    float64\n",
      " 11  Hue                           178 non-null    float64\n",
      " 12  OD280/OD315 of diluted wines  178 non-null    float64\n",
      " 13  Proline                       178 non-null    int64  \n",
      "dtypes: float64(11), int64(3)\n",
      "memory usage: 19.6 KB\n"
     ]
    }
   ],
   "source": [
    "df.info()"
   ]
  },
  {
   "cell_type": "code",
   "execution_count": 4,
   "metadata": {
    "scrolled": true
   },
   "outputs": [
    {
     "name": "stdout",
     "output_type": "stream",
     "text": [
      "[1 2 3]\n"
     ]
    }
   ],
   "source": [
    "import numpy as np\n",
    "print(np.unique(df['Class label']))"
   ]
  },
  {
   "cell_type": "code",
   "execution_count": 5,
   "metadata": {},
   "outputs": [],
   "source": [
    "X,y = df.iloc[:,1:].values, df.iloc[:,0].values"
   ]
  },
  {
   "cell_type": "code",
   "execution_count": 6,
   "metadata": {},
   "outputs": [],
   "source": [
    "from sklearn.model_selection import train_test_split\n",
    "\n",
    "X_train, X_test, y_train,y_test = train_test_split(X,y,test_size=0.3,\n",
    "                                   random_state=0,\n",
    "                                   stratify=y)"
   ]
  },
  {
   "cell_type": "code",
   "execution_count": 7,
   "metadata": {},
   "outputs": [],
   "source": [
    "from sklearn.preprocessing import StandardScaler"
   ]
  },
  {
   "cell_type": "code",
   "execution_count": 8,
   "metadata": {},
   "outputs": [],
   "source": [
    "stdsc = StandardScaler()\n",
    "X_train_scaled = stdsc.fit_transform(X_train)\n",
    "X_test_scaled = stdsc.fit_transform(X_test)"
   ]
  },
  {
   "cell_type": "code",
   "execution_count": 9,
   "metadata": {},
   "outputs": [
    {
     "name": "stdout",
     "output_type": "stream",
     "text": [
      "Training Accuracy:  1.0\n"
     ]
    }
   ],
   "source": [
    "from sklearn.linear_model import LogisticRegression\n",
    "lr = LogisticRegression(penalty='l1',\n",
    "                       C=1.0,\n",
    "                       solver='liblinear',\n",
    "                       multi_class='ovr')\n",
    "lr.fit(X_train_scaled, y_train)\n",
    "print('Training Accuracy: ', lr.score(X_train_scaled, y_train))"
   ]
  },
  {
   "cell_type": "code",
   "execution_count": 10,
   "metadata": {},
   "outputs": [
    {
     "name": "stdout",
     "output_type": "stream",
     "text": [
      "Test Accuracy:  1.0\n"
     ]
    }
   ],
   "source": [
    "print('Test Accuracy: ', lr.score(X_test_scaled, y_test))"
   ]
  },
  {
   "cell_type": "code",
   "execution_count": 11,
   "metadata": {},
   "outputs": [
    {
     "name": "stdout",
     "output_type": "stream",
     "text": [
      "Training Accuracy:  1.0\n"
     ]
    }
   ],
   "source": [
    "lr2 = LogisticRegression(penalty='l2',\n",
    "                        C=1.0,\n",
    "                        solver='lbfgs',\n",
    "                        multi_class='ovr')\n",
    "lr2.fit(X_train_scaled, y_train)\n",
    "print('Training Accuracy: ',lr2.score(X_train_scaled, y_train))"
   ]
  },
  {
   "cell_type": "code",
   "execution_count": 12,
   "metadata": {},
   "outputs": [
    {
     "name": "stdout",
     "output_type": "stream",
     "text": [
      "Test Accuracy:  1.0\n"
     ]
    }
   ],
   "source": [
    "print('Test Accuracy: ', lr2.score(X_test_scaled, y_test))"
   ]
  },
  {
   "cell_type": "code",
   "execution_count": 13,
   "metadata": {},
   "outputs": [
    {
     "data": {
      "text/plain": [
       "array([-1.2630524 , -1.21583683, -2.37046191])"
      ]
     },
     "execution_count": 13,
     "metadata": {},
     "output_type": "execute_result"
    }
   ],
   "source": [
    "lr.intercept_"
   ]
  },
  {
   "cell_type": "code",
   "execution_count": 14,
   "metadata": {},
   "outputs": [
    {
     "name": "stdout",
     "output_type": "stream",
     "text": [
      "[[ 1.24521944  0.18127292  0.7422073  -1.16000869  0.          0.\n",
      "   1.17465235  0.          0.          0.          0.          0.54184882\n",
      "   2.51156289]\n",
      " [-1.53696402 -0.3873016  -0.9950105   0.36487175 -0.05963185  0.\n",
      "   0.66798158  0.          0.         -1.93410813  1.2332645   0.\n",
      "  -2.23171009]\n",
      " [ 0.13575025  0.1683992   0.35730705  0.          0.          0.\n",
      "  -2.43768108  0.          0.          1.56345499 -0.81887016 -0.49265801\n",
      "   0.        ]]\n"
     ]
    }
   ],
   "source": [
    "print(lr.coef_)"
   ]
  },
  {
   "cell_type": "code",
   "execution_count": 15,
   "metadata": {},
   "outputs": [],
   "source": [
    "from mlxtend.feature_selection import SequentialFeatureSelector as SFS"
   ]
  },
  {
   "cell_type": "code",
   "execution_count": 35,
   "metadata": {},
   "outputs": [],
   "source": [
    "from sklearn.ensemble import RandomForestRegressor, RandomForestClassifier\n",
    "from sklearn.metrics import make_scorer"
   ]
  },
  {
   "cell_type": "code",
   "execution_count": 17,
   "metadata": {},
   "outputs": [],
   "source": [
    "X_train, X_test, y_train,y_test = train_test_split(X,y,test_size=0.3,\n",
    "                                   random_state=0,\n",
    "                                   stratify=y)"
   ]
  },
  {
   "cell_type": "code",
   "execution_count": 36,
   "metadata": {},
   "outputs": [
    {
     "name": "stderr",
     "output_type": "stream",
     "text": [
      "[Parallel(n_jobs=1)]: Using backend SequentialBackend with 1 concurrent workers.\n",
      "[Parallel(n_jobs=1)]: Done   1 out of   1 | elapsed:    0.2s remaining:    0.0s\n",
      "[Parallel(n_jobs=1)]: Done  13 out of  13 | elapsed:    2.7s finished\n",
      "\n",
      "[2021-02-07 00:15:46] Features: 12/7 -- score: 0.967741935483871[Parallel(n_jobs=1)]: Using backend SequentialBackend with 1 concurrent workers.\n",
      "[Parallel(n_jobs=1)]: Done   1 out of   1 | elapsed:    0.1s remaining:    0.0s\n",
      "[Parallel(n_jobs=1)]: Done  12 out of  12 | elapsed:    2.3s finished\n",
      "\n",
      "[2021-02-07 00:15:48] Features: 11/7 -- score: 0.9516129032258065[Parallel(n_jobs=1)]: Using backend SequentialBackend with 1 concurrent workers.\n",
      "[Parallel(n_jobs=1)]: Done   1 out of   1 | elapsed:    0.1s remaining:    0.0s\n",
      "[Parallel(n_jobs=1)]: Done  11 out of  11 | elapsed:    2.1s finished\n",
      "\n",
      "[2021-02-07 00:15:50] Features: 10/7 -- score: 0.935483870967742[Parallel(n_jobs=1)]: Using backend SequentialBackend with 1 concurrent workers.\n",
      "[Parallel(n_jobs=1)]: Done   1 out of   1 | elapsed:    0.1s remaining:    0.0s\n",
      "[Parallel(n_jobs=1)]: Done  10 out of  10 | elapsed:    1.9s finished\n",
      "\n",
      "[2021-02-07 00:15:52] Features: 9/7 -- score: 0.9435483870967742[Parallel(n_jobs=1)]: Using backend SequentialBackend with 1 concurrent workers.\n",
      "[Parallel(n_jobs=1)]: Done   1 out of   1 | elapsed:    0.1s remaining:    0.0s\n",
      "[Parallel(n_jobs=1)]: Done   9 out of   9 | elapsed:    1.7s finished\n",
      "\n",
      "[2021-02-07 00:15:54] Features: 8/7 -- score: 0.9516129032258065[Parallel(n_jobs=1)]: Using backend SequentialBackend with 1 concurrent workers.\n",
      "[Parallel(n_jobs=1)]: Done   1 out of   1 | elapsed:    0.1s remaining:    0.0s\n",
      "[Parallel(n_jobs=1)]: Done   8 out of   8 | elapsed:    1.5s finished\n",
      "\n",
      "[2021-02-07 00:15:56] Features: 7/7 -- score: 0.9516129032258065"
     ]
    }
   ],
   "source": [
    "\n",
    "sfs = SFS(RandomForestClassifier(n_estimators=100, n_jobs=4, random_state=0),\n",
    "          k_features=7, # the lower the features we want, the longer this will take\n",
    "          forward=False,\n",
    "          floating=False,\n",
    "          verbose=2,\n",
    "          scoring='accuracy',\n",
    "          cv=2)\n",
    "\n",
    "sfs = sfs.fit(np.array(X_train), y_train)"
   ]
  },
  {
   "cell_type": "code",
   "execution_count": 37,
   "metadata": {},
   "outputs": [
    {
     "data": {
      "text/plain": [
       "(0, 1, 2, 6, 9, 10, 12)"
      ]
     },
     "execution_count": 37,
     "metadata": {},
     "output_type": "execute_result"
    }
   ],
   "source": [
    "sfs.k_feature_idx_"
   ]
  },
  {
   "cell_type": "code",
   "execution_count": 38,
   "metadata": {},
   "outputs": [],
   "source": [
    "k7 = list(sfs.k_feature_idx_)"
   ]
  },
  {
   "cell_type": "code",
   "execution_count": 39,
   "metadata": {},
   "outputs": [
    {
     "name": "stdout",
     "output_type": "stream",
     "text": [
      "Index(['Alcohol', 'Malic acid', 'Ash', 'Flavanoids', 'Color intensity', 'Hue',\n",
      "       'Proline'],\n",
      "      dtype='object')\n"
     ]
    }
   ],
   "source": [
    "print(df.columns[1:][k7])"
   ]
  },
  {
   "cell_type": "code",
   "execution_count": 40,
   "metadata": {},
   "outputs": [
    {
     "data": {
      "text/plain": [
       "{13: {'feature_idx': (0, 1, 2, 3, 4, 5, 6, 7, 8, 9, 10, 11, 12),\n",
       "  'cv_scores': array([0.91935484, 0.96774194]),\n",
       "  'avg_score': 0.9435483870967742,\n",
       "  'feature_names': ('0',\n",
       "   '1',\n",
       "   '2',\n",
       "   '3',\n",
       "   '4',\n",
       "   '5',\n",
       "   '6',\n",
       "   '7',\n",
       "   '8',\n",
       "   '9',\n",
       "   '10',\n",
       "   '11',\n",
       "   '12')},\n",
       " 12: {'feature_idx': (0, 1, 2, 3, 4, 5, 6, 7, 8, 9, 10, 12),\n",
       "  'cv_scores': array([0.9516129 , 0.98387097]),\n",
       "  'avg_score': 0.967741935483871,\n",
       "  'feature_names': ('0',\n",
       "   '1',\n",
       "   '2',\n",
       "   '3',\n",
       "   '4',\n",
       "   '5',\n",
       "   '6',\n",
       "   '7',\n",
       "   '8',\n",
       "   '9',\n",
       "   '10',\n",
       "   '12')},\n",
       " 11: {'feature_idx': (0, 1, 2, 3, 5, 6, 7, 8, 9, 10, 12),\n",
       "  'cv_scores': array([0.9516129, 0.9516129]),\n",
       "  'avg_score': 0.9516129032258065,\n",
       "  'feature_names': ('0', '1', '2', '3', '5', '6', '7', '8', '9', '10', '12')},\n",
       " 10: {'feature_idx': (0, 1, 2, 3, 5, 6, 8, 9, 10, 12),\n",
       "  'cv_scores': array([0.91935484, 0.9516129 ]),\n",
       "  'avg_score': 0.935483870967742,\n",
       "  'feature_names': ('0', '1', '2', '3', '5', '6', '8', '9', '10', '12')},\n",
       " 9: {'feature_idx': (0, 1, 2, 3, 6, 8, 9, 10, 12),\n",
       "  'cv_scores': array([0.91935484, 0.96774194]),\n",
       "  'avg_score': 0.9435483870967742,\n",
       "  'feature_names': ('0', '1', '2', '3', '6', '8', '9', '10', '12')},\n",
       " 8: {'feature_idx': (0, 1, 2, 3, 6, 9, 10, 12),\n",
       "  'cv_scores': array([0.93548387, 0.96774194]),\n",
       "  'avg_score': 0.9516129032258065,\n",
       "  'feature_names': ('0', '1', '2', '3', '6', '9', '10', '12')},\n",
       " 7: {'feature_idx': (0, 1, 2, 6, 9, 10, 12),\n",
       "  'cv_scores': array([0.9516129, 0.9516129]),\n",
       "  'avg_score': 0.9516129032258065,\n",
       "  'feature_names': ('0', '1', '2', '6', '9', '10', '12')}}"
      ]
     },
     "execution_count": 40,
     "metadata": {},
     "output_type": "execute_result"
    }
   ],
   "source": [
    "sfs.subsets_"
   ]
  },
  {
   "cell_type": "code",
   "execution_count": 45,
   "metadata": {},
   "outputs": [
    {
     "data": {
      "text/html": [
       "<div>\n",
       "<style scoped>\n",
       "    .dataframe tbody tr th:only-of-type {\n",
       "        vertical-align: middle;\n",
       "    }\n",
       "\n",
       "    .dataframe tbody tr th {\n",
       "        vertical-align: top;\n",
       "    }\n",
       "\n",
       "    .dataframe thead th {\n",
       "        text-align: right;\n",
       "    }\n",
       "</style>\n",
       "<table border=\"1\" class=\"dataframe\">\n",
       "  <thead>\n",
       "    <tr style=\"text-align: right;\">\n",
       "      <th></th>\n",
       "      <th>feature_idx</th>\n",
       "      <th>cv_scores</th>\n",
       "      <th>avg_score</th>\n",
       "      <th>feature_names</th>\n",
       "      <th>ci_bound</th>\n",
       "      <th>std_dev</th>\n",
       "      <th>std_err</th>\n",
       "    </tr>\n",
       "  </thead>\n",
       "  <tbody>\n",
       "    <tr>\n",
       "      <th>13</th>\n",
       "      <td>(0, 1, 2, 3, 4, 5, 6, 7, 8, 9, 10, 11, 12)</td>\n",
       "      <td>[0.9193548387096774, 0.967741935483871]</td>\n",
       "      <td>0.943548</td>\n",
       "      <td>(0, 1, 2, 3, 4, 5, 6, 7, 8, 9, 10, 11, 12)</td>\n",
       "      <td>0.104096</td>\n",
       "      <td>0.0241935</td>\n",
       "      <td>0.0241935</td>\n",
       "    </tr>\n",
       "    <tr>\n",
       "      <th>12</th>\n",
       "      <td>(0, 1, 2, 3, 4, 5, 6, 7, 8, 9, 10, 12)</td>\n",
       "      <td>[0.9516129032258065, 0.9838709677419355]</td>\n",
       "      <td>0.967742</td>\n",
       "      <td>(0, 1, 2, 3, 4, 5, 6, 7, 8, 9, 10, 12)</td>\n",
       "      <td>0.0693976</td>\n",
       "      <td>0.016129</td>\n",
       "      <td>0.016129</td>\n",
       "    </tr>\n",
       "    <tr>\n",
       "      <th>11</th>\n",
       "      <td>(0, 1, 2, 3, 5, 6, 7, 8, 9, 10, 12)</td>\n",
       "      <td>[0.9516129032258065, 0.9516129032258065]</td>\n",
       "      <td>0.951613</td>\n",
       "      <td>(0, 1, 2, 3, 5, 6, 7, 8, 9, 10, 12)</td>\n",
       "      <td>0</td>\n",
       "      <td>0</td>\n",
       "      <td>0</td>\n",
       "    </tr>\n",
       "    <tr>\n",
       "      <th>10</th>\n",
       "      <td>(0, 1, 2, 3, 5, 6, 8, 9, 10, 12)</td>\n",
       "      <td>[0.9193548387096774, 0.9516129032258065]</td>\n",
       "      <td>0.935484</td>\n",
       "      <td>(0, 1, 2, 3, 5, 6, 8, 9, 10, 12)</td>\n",
       "      <td>0.0693976</td>\n",
       "      <td>0.016129</td>\n",
       "      <td>0.016129</td>\n",
       "    </tr>\n",
       "    <tr>\n",
       "      <th>9</th>\n",
       "      <td>(0, 1, 2, 3, 6, 8, 9, 10, 12)</td>\n",
       "      <td>[0.9193548387096774, 0.967741935483871]</td>\n",
       "      <td>0.943548</td>\n",
       "      <td>(0, 1, 2, 3, 6, 8, 9, 10, 12)</td>\n",
       "      <td>0.104096</td>\n",
       "      <td>0.0241935</td>\n",
       "      <td>0.0241935</td>\n",
       "    </tr>\n",
       "    <tr>\n",
       "      <th>8</th>\n",
       "      <td>(0, 1, 2, 3, 6, 9, 10, 12)</td>\n",
       "      <td>[0.9354838709677419, 0.967741935483871]</td>\n",
       "      <td>0.951613</td>\n",
       "      <td>(0, 1, 2, 3, 6, 9, 10, 12)</td>\n",
       "      <td>0.0693976</td>\n",
       "      <td>0.016129</td>\n",
       "      <td>0.016129</td>\n",
       "    </tr>\n",
       "    <tr>\n",
       "      <th>7</th>\n",
       "      <td>(0, 1, 2, 6, 9, 10, 12)</td>\n",
       "      <td>[0.9516129032258065, 0.9516129032258065]</td>\n",
       "      <td>0.951613</td>\n",
       "      <td>(0, 1, 2, 6, 9, 10, 12)</td>\n",
       "      <td>0</td>\n",
       "      <td>0</td>\n",
       "      <td>0</td>\n",
       "    </tr>\n",
       "  </tbody>\n",
       "</table>\n",
       "</div>"
      ],
      "text/plain": [
       "                                   feature_idx  \\\n",
       "13  (0, 1, 2, 3, 4, 5, 6, 7, 8, 9, 10, 11, 12)   \n",
       "12      (0, 1, 2, 3, 4, 5, 6, 7, 8, 9, 10, 12)   \n",
       "11         (0, 1, 2, 3, 5, 6, 7, 8, 9, 10, 12)   \n",
       "10            (0, 1, 2, 3, 5, 6, 8, 9, 10, 12)   \n",
       "9                (0, 1, 2, 3, 6, 8, 9, 10, 12)   \n",
       "8                   (0, 1, 2, 3, 6, 9, 10, 12)   \n",
       "7                      (0, 1, 2, 6, 9, 10, 12)   \n",
       "\n",
       "                                   cv_scores avg_score  \\\n",
       "13   [0.9193548387096774, 0.967741935483871]  0.943548   \n",
       "12  [0.9516129032258065, 0.9838709677419355]  0.967742   \n",
       "11  [0.9516129032258065, 0.9516129032258065]  0.951613   \n",
       "10  [0.9193548387096774, 0.9516129032258065]  0.935484   \n",
       "9    [0.9193548387096774, 0.967741935483871]  0.943548   \n",
       "8    [0.9354838709677419, 0.967741935483871]  0.951613   \n",
       "7   [0.9516129032258065, 0.9516129032258065]  0.951613   \n",
       "\n",
       "                                 feature_names   ci_bound    std_dev  \\\n",
       "13  (0, 1, 2, 3, 4, 5, 6, 7, 8, 9, 10, 11, 12)   0.104096  0.0241935   \n",
       "12      (0, 1, 2, 3, 4, 5, 6, 7, 8, 9, 10, 12)  0.0693976   0.016129   \n",
       "11         (0, 1, 2, 3, 5, 6, 7, 8, 9, 10, 12)          0          0   \n",
       "10            (0, 1, 2, 3, 5, 6, 8, 9, 10, 12)  0.0693976   0.016129   \n",
       "9                (0, 1, 2, 3, 6, 8, 9, 10, 12)   0.104096  0.0241935   \n",
       "8                   (0, 1, 2, 3, 6, 9, 10, 12)  0.0693976   0.016129   \n",
       "7                      (0, 1, 2, 6, 9, 10, 12)          0          0   \n",
       "\n",
       "      std_err  \n",
       "13  0.0241935  \n",
       "12   0.016129  \n",
       "11          0  \n",
       "10   0.016129  \n",
       "9   0.0241935  \n",
       "8    0.016129  \n",
       "7           0  "
      ]
     },
     "execution_count": 45,
     "metadata": {},
     "output_type": "execute_result"
    }
   ],
   "source": [
    "pd.DataFrame.from_dict(sfs.get_metric_dict()).T"
   ]
  },
  {
   "cell_type": "code",
   "execution_count": 47,
   "metadata": {},
   "outputs": [
    {
     "data": {
      "image/png": "[encoded data removed]",
      "text/plain": [
       "<Figure size 432x288 with 1 Axes>"
      ]
     },
     "metadata": {
      "needs_background": "light"
     },
     "output_type": "display_data"
    }
   ],
   "source": [
    "from mlxtend.plotting import plot_sequential_feature_selection as plot_sfs\n",
    "import matplotlib.pyplot as plt\n",
    "\n",
    "fig1 = plot_sfs(sfs.get_metric_dict())\n",
    "plt.ylim([.08,1])\n",
    "plt.grid()\n",
    "plt.show()"
   ]
  },
  {
   "cell_type": "code",
   "execution_count": 48,
   "metadata": {},
   "outputs": [
    {
     "name": "stdout",
     "output_type": "stream",
     "text": [
      "Training Accuracy:  1.0\n",
      "Test Accuracy:  1.0\n"
     ]
    }
   ],
   "source": [
    "RFR = RandomForestClassifier(n_estimators=100, n_jobs=4, random_state=0)\n",
    "RFR.fit(X_train[:,k7],y_train)\n",
    "print('Training Accuracy: ', RFR.score(X_train[:, k7],y_train))\n",
    "print('Test Accuracy: ',RFR.score(X_test[:,k7],y_test))"
   ]
  },
  {
   "cell_type": "code",
   "execution_count": 49,
   "metadata": {},
   "outputs": [
    {
     "name": "stdout",
     "output_type": "stream",
     "text": [
      "Training Accuracy:  1.0\n",
      "Test Accuracy:  1.0\n"
     ]
    }
   ],
   "source": [
    "RFR = RandomForestClassifier(n_estimators=100, n_jobs=4, random_state=0)\n",
    "RFR.fit(X_train,y_train)\n",
    "print('Training Accuracy: ', RFR.score(X_train,y_train))\n",
    "print('Test Accuracy: ',RFR.score(X_test,y_test))"
   ]
  },
  {
   "cell_type": "code",
   "execution_count": null,
   "metadata": {},
   "outputs": [],
   "source": []
  }
 ],
 "metadata": {
  "kernelspec": {
   "display_name": "Python 3",
   "language": "python",
   "name": "python3"
  },
  "language_info": {
   "codemirror_mode": {
    "name": "ipython",
    "version": 3
   },
   "file_extension": ".py",
   "mimetype": "text/x-python",
   "name": "python",
   "nbconvert_exporter": "python",
   "pygments_lexer": "ipython3",
   "version": "3.8.5"
  }
 },
 "nbformat": 4,
 "nbformat_minor": 4
}
